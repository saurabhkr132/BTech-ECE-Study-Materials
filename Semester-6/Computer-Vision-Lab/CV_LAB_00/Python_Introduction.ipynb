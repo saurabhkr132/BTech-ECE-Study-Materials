{
 "cells": [
  {
   "cell_type": "markdown",
   "metadata": {},
   "source": [
    "# Lab Assignment 0\n",
    "Submitted by:\n",
    "**Saurabh Kumar (SC22B146)**\n",
    "\n",
    "## Introduction to Python "
   ]
  },
  {
   "cell_type": "markdown",
   "metadata": {},
   "source": [
    "### Exercises\n",
    "\n",
    "- Write a function that accepts 5 numbers as arguments and returns the average of those numbers."
   ]
  },
  {
   "cell_type": "code",
   "execution_count": 1,
   "metadata": {},
   "outputs": [
    {
     "data": {
      "text/plain": [
       "3.0"
      ]
     },
     "execution_count": 1,
     "metadata": {},
     "output_type": "execute_result"
    }
   ],
   "source": [
    "## Code solution here.\n",
    "# function definition\n",
    "def average(a1,a2,a3,a4,a5):\n",
    "  average =  (a1 + a2 + a3 + a4 + a5)/5\n",
    "  return average\n",
    "\n",
    "# calling the function\n",
    "average(1,2,3,4,5)"
   ]
  },
  {
   "cell_type": "markdown",
   "metadata": {},
   "source": [
    "- Write a function that takes accepts a single integer and displays whether the integer is odd or even."
   ]
  },
  {
   "cell_type": "code",
   "execution_count": 2,
   "metadata": {},
   "outputs": [
    {
     "name": "stdout",
     "output_type": "stream",
     "text": [
      "37  is odd\n"
     ]
    }
   ],
   "source": [
    "## Code solution here.\n",
    "# function definition\n",
    "def is_even_or_odd(number):\n",
    "  if (number%2 == 0):\n",
    "    print(number,\" is even\")\n",
    "  else:\n",
    "    print(number,\" is odd\")\n",
    "\n",
    "# calling the function\n",
    "is_even_or_odd(37);"
   ]
  },
  {
   "cell_type": "markdown",
   "metadata": {},
   "source": [
    "- Write a function that accepts a single argument $N$, and returns the largest square number that is less than or equal to $N$."
   ]
  },
  {
   "cell_type": "code",
   "execution_count": 86,
   "metadata": {},
   "outputs": [
    {
     "data": {
      "text/plain": [
       "16"
      ]
     },
     "execution_count": 86,
     "metadata": {},
     "output_type": "execute_result"
    }
   ],
   "source": [
    "## Code solution here.\n",
    "import math\n",
    "\n",
    "# function definition\n",
    "def square_less_or_equal_to(number):\n",
    "  largest_square_root = int(math.sqrt(number))\n",
    "  return largest_square_root ** 2\n",
    "\n",
    "# calling the function\n",
    "square_less_or_equal_to(18)\n",
    "    "
   ]
  },
  {
   "cell_type": "markdown",
   "metadata": {},
   "source": [
    "- Write a function that accepts two arguments, $\\texttt{a}$ and $\\texttt{b}$, and returns the remainder of $\\texttt{a/b}$.  (*There is a built-in Python operator that does this, but try to come up with a way to do it for yourself.*)"
   ]
  },
  {
   "cell_type": "code",
   "execution_count": 28,
   "metadata": {},
   "outputs": [
    {
     "data": {
      "text/plain": [
       "2"
      ]
     },
     "execution_count": 28,
     "metadata": {},
     "output_type": "execute_result"
    }
   ],
   "source": [
    "## Code solution here\n",
    "# function definition\n",
    "def remainder(a,b):\n",
    "  if(b>a): # interchange a and b\n",
    "    b = a + b\n",
    "    a = b - a\n",
    "    b = b - a\n",
    "  while(a > b):\n",
    "    a = a - b\n",
    "  if (a == b):\n",
    "    return 0\n",
    "  return a\n",
    "\n",
    "# calling the function\n",
    "remainder(17,3)"
   ]
  },
  {
   "cell_type": "markdown",
   "metadata": {},
   "source": [
    "- Write a function that accepts a single integer $N$, as an argument, and returns the number of factors of $N$.   (*For example, 18 has factors 1, 2, 3, 6, 9, 18.  If the function receives 18 as an argument, it should return 6.*)"
   ]
  },
  {
   "cell_type": "code",
   "execution_count": 38,
   "metadata": {},
   "outputs": [
    {
     "data": {
      "text/plain": [
       "6"
      ]
     },
     "execution_count": 38,
     "metadata": {},
     "output_type": "execute_result"
    }
   ],
   "source": [
    "## Code solution here.\n",
    "# function definition\n",
    "def no_of_factor(num):\n",
    "  count = 0\n",
    "  for i in range(1,num+1):\n",
    "    if (num%i == 0):\n",
    "      count = count + 1\n",
    "  return count\n",
    "\n",
    "# calling the function\n",
    "no_of_factor(18)"
   ]
  },
  {
   "cell_type": "markdown",
   "metadata": {},
   "source": [
    "- Write a function that accepts a single argument that represents a date, and returns the number of days that have passed between January 1, 2000, and the date provided.  (*For example, if the function receives the number 020100 (February 1, 2000), it should return the number 31.  If the function receives the number 01012001 (January 1, 2001), it should return 366 since the year 2000 was a [leap year](https://www.timeanddate.com/date/leapyear.html).*)  This exercise is more challenging that it may first appear.  Try splitting the problem in to simpler tasks."
   ]
  },
  {
   "cell_type": "code",
   "execution_count": 1,
   "metadata": {},
   "outputs": [
    {
     "data": {
      "text/plain": [
       "9154"
      ]
     },
     "execution_count": 1,
     "metadata": {},
     "output_type": "execute_result"
    }
   ],
   "source": [
    "## Code solution here.\n",
    "# leap year determination\n",
    "def is_leap_year(year):\n",
    "  if (year%4 == 0):\n",
    "    if (year%100 == 0):\n",
    "      if (year%400 == 0):\n",
    "        return True\n",
    "      else:\n",
    "        return False\n",
    "    else:\n",
    "      return True\n",
    "  else:\n",
    "    return False\n",
    "\n",
    "# days passed determination\n",
    "def days_passed(date):\n",
    "  year = date%10000\n",
    "  day = int((date%1000000 - year)/10000)\n",
    "  month = int((date%100000000 - day*10000 - year)/1000000)\n",
    "  days = 0\n",
    "  \n",
    "  # calculating days in the given year\n",
    "  for i in range(1,month):\n",
    "    if (i == 2):\n",
    "      if (is_leap_year(year)):\n",
    "        days = days + 29\n",
    "      else:\n",
    "        days = days + 28\n",
    "    elif (i == 4 or i == 6 or i == 9 or i == 11):\n",
    "      days = days + 30\n",
    "    else:\n",
    "      days = days + 31\n",
    "  days = days + day\n",
    "\n",
    "  # calculating days in the years before the given year\n",
    "  year_days = 0\n",
    "  for i in range(2000,year):\n",
    "    if (is_leap_year(i)):\n",
    "      year_days = year_days + 366\n",
    "    else:\n",
    "      days = days + 365\n",
    "  days = days + year_days - 1\n",
    "\n",
    "  return days\n",
    "\n",
    "# calling the function\n",
    "days_passed(1232025) # (m)mddyyyy format"
   ]
  }
 ],
 "metadata": {
  "kernelspec": {
   "display_name": "Python 3",
   "language": "python",
   "name": "python3"
  },
  "language_info": {
   "codemirror_mode": {
    "name": "ipython",
    "version": 3
   },
   "file_extension": ".py",
   "mimetype": "text/x-python",
   "name": "python",
   "nbconvert_exporter": "python",
   "pygments_lexer": "ipython3",
   "version": "3.12.4"
  }
 },
 "nbformat": 4,
 "nbformat_minor": 4
}
